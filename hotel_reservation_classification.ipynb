{
  "nbformat": 4,
  "nbformat_minor": 0,
  "metadata": {
    "colab": {
      "provenance": [],
      "authorship_tag": "ABX9TyN0UskDCTMHtugcxd8/mlQO",
      "include_colab_link": true
    },
    "kernelspec": {
      "name": "python3",
      "display_name": "Python 3"
    },
    "language_info": {
      "name": "python"
    }
  },
  "cells": [
    {
      "cell_type": "markdown",
      "metadata": {
        "id": "view-in-github",
        "colab_type": "text"
      },
      "source": [
        "<a href=\"https://colab.research.google.com/github/stevansehn/python-hotel-reservation-classification/blob/main/hotel_reservation_classification.ipynb\" target=\"_parent\"><img src=\"https://colab.research.google.com/assets/colab-badge.svg\" alt=\"Open In Colab\"/></a>"
      ]
    },
    {
      "cell_type": "code",
      "execution_count": 1,
      "metadata": {
        "colab": {
          "base_uri": "https://localhost:8080/"
        },
        "id": "mkvSRj3jY6Fi",
        "outputId": "6c3d0b9a-fef3-4713-bcbb-e00a09b0278c"
      },
      "outputs": [
        {
          "output_type": "stream",
          "name": "stdout",
          "text": [
            "Warning: Looks like you're using an outdated `kagglehub` version, please consider updating (latest version: 0.3.3)\n",
            "Path to dataset files: /root/.cache/kagglehub/datasets/ahsan81/hotel-reservations-classification-dataset/versions/1\n"
          ]
        }
      ],
      "source": [
        "import numpy as np\n",
        "import pandas as pd\n",
        "from sklearn.preprocessing import StandardScaler, LabelEncoder\n",
        "from sklearn.model_selection import train_test_split\n",
        "from imblearn.over_sampling import SMOTE\n",
        "from sklearn.model_selection import KFold, cross_validate\n",
        "from sklearn.tree import DecisionTreeClassifier\n",
        "\n",
        "import kagglehub\n",
        "\n",
        "path = kagglehub.dataset_download(\"ahsan81/hotel-reservations-classification-dataset\")\n",
        "\n",
        "print(\"Path to dataset files:\", path)"
      ]
    },
    {
      "cell_type": "code",
      "source": [
        "df = pd.read_csv(path + \"/Hotel Reservations.csv\")\n",
        "df.head()\n",
        "\n",
        "df.info()\n",
        "\n",
        "df.describe()"
      ],
      "metadata": {
        "colab": {
          "base_uri": "https://localhost:8080/",
          "height": 785
        },
        "id": "FNW6Xo6vZoFa",
        "outputId": "a45073f6-f2c1-45c8-ece0-80b008045ebd"
      },
      "execution_count": 2,
      "outputs": [
        {
          "output_type": "stream",
          "name": "stdout",
          "text": [
            "<class 'pandas.core.frame.DataFrame'>\n",
            "RangeIndex: 36275 entries, 0 to 36274\n",
            "Data columns (total 19 columns):\n",
            " #   Column                                Non-Null Count  Dtype  \n",
            "---  ------                                --------------  -----  \n",
            " 0   Booking_ID                            36275 non-null  object \n",
            " 1   no_of_adults                          36275 non-null  int64  \n",
            " 2   no_of_children                        36275 non-null  int64  \n",
            " 3   no_of_weekend_nights                  36275 non-null  int64  \n",
            " 4   no_of_week_nights                     36275 non-null  int64  \n",
            " 5   type_of_meal_plan                     36275 non-null  object \n",
            " 6   required_car_parking_space            36275 non-null  int64  \n",
            " 7   room_type_reserved                    36275 non-null  object \n",
            " 8   lead_time                             36275 non-null  int64  \n",
            " 9   arrival_year                          36275 non-null  int64  \n",
            " 10  arrival_month                         36275 non-null  int64  \n",
            " 11  arrival_date                          36275 non-null  int64  \n",
            " 12  market_segment_type                   36275 non-null  object \n",
            " 13  repeated_guest                        36275 non-null  int64  \n",
            " 14  no_of_previous_cancellations          36275 non-null  int64  \n",
            " 15  no_of_previous_bookings_not_canceled  36275 non-null  int64  \n",
            " 16  avg_price_per_room                    36275 non-null  float64\n",
            " 17  no_of_special_requests                36275 non-null  int64  \n",
            " 18  booking_status                        36275 non-null  object \n",
            "dtypes: float64(1), int64(13), object(5)\n",
            "memory usage: 5.3+ MB\n"
          ]
        },
        {
          "output_type": "execute_result",
          "data": {
            "text/plain": [
              "       no_of_adults  no_of_children  no_of_weekend_nights  no_of_week_nights  \\\n",
              "count  36275.000000    36275.000000          36275.000000       36275.000000   \n",
              "mean       1.844962        0.105279              0.810724           2.204300   \n",
              "std        0.518715        0.402648              0.870644           1.410905   \n",
              "min        0.000000        0.000000              0.000000           0.000000   \n",
              "25%        2.000000        0.000000              0.000000           1.000000   \n",
              "50%        2.000000        0.000000              1.000000           2.000000   \n",
              "75%        2.000000        0.000000              2.000000           3.000000   \n",
              "max        4.000000       10.000000              7.000000          17.000000   \n",
              "\n",
              "       required_car_parking_space     lead_time  arrival_year  arrival_month  \\\n",
              "count                36275.000000  36275.000000  36275.000000   36275.000000   \n",
              "mean                     0.030986     85.232557   2017.820427       7.423653   \n",
              "std                      0.173281     85.930817      0.383836       3.069894   \n",
              "min                      0.000000      0.000000   2017.000000       1.000000   \n",
              "25%                      0.000000     17.000000   2018.000000       5.000000   \n",
              "50%                      0.000000     57.000000   2018.000000       8.000000   \n",
              "75%                      0.000000    126.000000   2018.000000      10.000000   \n",
              "max                      1.000000    443.000000   2018.000000      12.000000   \n",
              "\n",
              "       arrival_date  repeated_guest  no_of_previous_cancellations  \\\n",
              "count  36275.000000    36275.000000                  36275.000000   \n",
              "mean      15.596995        0.025637                      0.023349   \n",
              "std        8.740447        0.158053                      0.368331   \n",
              "min        1.000000        0.000000                      0.000000   \n",
              "25%        8.000000        0.000000                      0.000000   \n",
              "50%       16.000000        0.000000                      0.000000   \n",
              "75%       23.000000        0.000000                      0.000000   \n",
              "max       31.000000        1.000000                     13.000000   \n",
              "\n",
              "       no_of_previous_bookings_not_canceled  avg_price_per_room  \\\n",
              "count                          36275.000000        36275.000000   \n",
              "mean                               0.153411          103.423539   \n",
              "std                                1.754171           35.089424   \n",
              "min                                0.000000            0.000000   \n",
              "25%                                0.000000           80.300000   \n",
              "50%                                0.000000           99.450000   \n",
              "75%                                0.000000          120.000000   \n",
              "max                               58.000000          540.000000   \n",
              "\n",
              "       no_of_special_requests  \n",
              "count            36275.000000  \n",
              "mean                 0.619655  \n",
              "std                  0.786236  \n",
              "min                  0.000000  \n",
              "25%                  0.000000  \n",
              "50%                  0.000000  \n",
              "75%                  1.000000  \n",
              "max                  5.000000  "
            ],
            "text/html": [
              "\n",
              "  <div id=\"df-ce6fbddc-1c1a-4f30-b16f-4b34a96142cb\" class=\"colab-df-container\">\n",
              "    <div>\n",
              "<style scoped>\n",
              "    .dataframe tbody tr th:only-of-type {\n",
              "        vertical-align: middle;\n",
              "    }\n",
              "\n",
              "    .dataframe tbody tr th {\n",
              "        vertical-align: top;\n",
              "    }\n",
              "\n",
              "    .dataframe thead th {\n",
              "        text-align: right;\n",
              "    }\n",
              "</style>\n",
              "<table border=\"1\" class=\"dataframe\">\n",
              "  <thead>\n",
              "    <tr style=\"text-align: right;\">\n",
              "      <th></th>\n",
              "      <th>no_of_adults</th>\n",
              "      <th>no_of_children</th>\n",
              "      <th>no_of_weekend_nights</th>\n",
              "      <th>no_of_week_nights</th>\n",
              "      <th>required_car_parking_space</th>\n",
              "      <th>lead_time</th>\n",
              "      <th>arrival_year</th>\n",
              "      <th>arrival_month</th>\n",
              "      <th>arrival_date</th>\n",
              "      <th>repeated_guest</th>\n",
              "      <th>no_of_previous_cancellations</th>\n",
              "      <th>no_of_previous_bookings_not_canceled</th>\n",
              "      <th>avg_price_per_room</th>\n",
              "      <th>no_of_special_requests</th>\n",
              "    </tr>\n",
              "  </thead>\n",
              "  <tbody>\n",
              "    <tr>\n",
              "      <th>count</th>\n",
              "      <td>36275.000000</td>\n",
              "      <td>36275.000000</td>\n",
              "      <td>36275.000000</td>\n",
              "      <td>36275.000000</td>\n",
              "      <td>36275.000000</td>\n",
              "      <td>36275.000000</td>\n",
              "      <td>36275.000000</td>\n",
              "      <td>36275.000000</td>\n",
              "      <td>36275.000000</td>\n",
              "      <td>36275.000000</td>\n",
              "      <td>36275.000000</td>\n",
              "      <td>36275.000000</td>\n",
              "      <td>36275.000000</td>\n",
              "      <td>36275.000000</td>\n",
              "    </tr>\n",
              "    <tr>\n",
              "      <th>mean</th>\n",
              "      <td>1.844962</td>\n",
              "      <td>0.105279</td>\n",
              "      <td>0.810724</td>\n",
              "      <td>2.204300</td>\n",
              "      <td>0.030986</td>\n",
              "      <td>85.232557</td>\n",
              "      <td>2017.820427</td>\n",
              "      <td>7.423653</td>\n",
              "      <td>15.596995</td>\n",
              "      <td>0.025637</td>\n",
              "      <td>0.023349</td>\n",
              "      <td>0.153411</td>\n",
              "      <td>103.423539</td>\n",
              "      <td>0.619655</td>\n",
              "    </tr>\n",
              "    <tr>\n",
              "      <th>std</th>\n",
              "      <td>0.518715</td>\n",
              "      <td>0.402648</td>\n",
              "      <td>0.870644</td>\n",
              "      <td>1.410905</td>\n",
              "      <td>0.173281</td>\n",
              "      <td>85.930817</td>\n",
              "      <td>0.383836</td>\n",
              "      <td>3.069894</td>\n",
              "      <td>8.740447</td>\n",
              "      <td>0.158053</td>\n",
              "      <td>0.368331</td>\n",
              "      <td>1.754171</td>\n",
              "      <td>35.089424</td>\n",
              "      <td>0.786236</td>\n",
              "    </tr>\n",
              "    <tr>\n",
              "      <th>min</th>\n",
              "      <td>0.000000</td>\n",
              "      <td>0.000000</td>\n",
              "      <td>0.000000</td>\n",
              "      <td>0.000000</td>\n",
              "      <td>0.000000</td>\n",
              "      <td>0.000000</td>\n",
              "      <td>2017.000000</td>\n",
              "      <td>1.000000</td>\n",
              "      <td>1.000000</td>\n",
              "      <td>0.000000</td>\n",
              "      <td>0.000000</td>\n",
              "      <td>0.000000</td>\n",
              "      <td>0.000000</td>\n",
              "      <td>0.000000</td>\n",
              "    </tr>\n",
              "    <tr>\n",
              "      <th>25%</th>\n",
              "      <td>2.000000</td>\n",
              "      <td>0.000000</td>\n",
              "      <td>0.000000</td>\n",
              "      <td>1.000000</td>\n",
              "      <td>0.000000</td>\n",
              "      <td>17.000000</td>\n",
              "      <td>2018.000000</td>\n",
              "      <td>5.000000</td>\n",
              "      <td>8.000000</td>\n",
              "      <td>0.000000</td>\n",
              "      <td>0.000000</td>\n",
              "      <td>0.000000</td>\n",
              "      <td>80.300000</td>\n",
              "      <td>0.000000</td>\n",
              "    </tr>\n",
              "    <tr>\n",
              "      <th>50%</th>\n",
              "      <td>2.000000</td>\n",
              "      <td>0.000000</td>\n",
              "      <td>1.000000</td>\n",
              "      <td>2.000000</td>\n",
              "      <td>0.000000</td>\n",
              "      <td>57.000000</td>\n",
              "      <td>2018.000000</td>\n",
              "      <td>8.000000</td>\n",
              "      <td>16.000000</td>\n",
              "      <td>0.000000</td>\n",
              "      <td>0.000000</td>\n",
              "      <td>0.000000</td>\n",
              "      <td>99.450000</td>\n",
              "      <td>0.000000</td>\n",
              "    </tr>\n",
              "    <tr>\n",
              "      <th>75%</th>\n",
              "      <td>2.000000</td>\n",
              "      <td>0.000000</td>\n",
              "      <td>2.000000</td>\n",
              "      <td>3.000000</td>\n",
              "      <td>0.000000</td>\n",
              "      <td>126.000000</td>\n",
              "      <td>2018.000000</td>\n",
              "      <td>10.000000</td>\n",
              "      <td>23.000000</td>\n",
              "      <td>0.000000</td>\n",
              "      <td>0.000000</td>\n",
              "      <td>0.000000</td>\n",
              "      <td>120.000000</td>\n",
              "      <td>1.000000</td>\n",
              "    </tr>\n",
              "    <tr>\n",
              "      <th>max</th>\n",
              "      <td>4.000000</td>\n",
              "      <td>10.000000</td>\n",
              "      <td>7.000000</td>\n",
              "      <td>17.000000</td>\n",
              "      <td>1.000000</td>\n",
              "      <td>443.000000</td>\n",
              "      <td>2018.000000</td>\n",
              "      <td>12.000000</td>\n",
              "      <td>31.000000</td>\n",
              "      <td>1.000000</td>\n",
              "      <td>13.000000</td>\n",
              "      <td>58.000000</td>\n",
              "      <td>540.000000</td>\n",
              "      <td>5.000000</td>\n",
              "    </tr>\n",
              "  </tbody>\n",
              "</table>\n",
              "</div>\n",
              "    <div class=\"colab-df-buttons\">\n",
              "\n",
              "  <div class=\"colab-df-container\">\n",
              "    <button class=\"colab-df-convert\" onclick=\"convertToInteractive('df-ce6fbddc-1c1a-4f30-b16f-4b34a96142cb')\"\n",
              "            title=\"Convert this dataframe to an interactive table.\"\n",
              "            style=\"display:none;\">\n",
              "\n",
              "  <svg xmlns=\"http://www.w3.org/2000/svg\" height=\"24px\" viewBox=\"0 -960 960 960\">\n",
              "    <path d=\"M120-120v-720h720v720H120Zm60-500h600v-160H180v160Zm220 220h160v-160H400v160Zm0 220h160v-160H400v160ZM180-400h160v-160H180v160Zm440 0h160v-160H620v160ZM180-180h160v-160H180v160Zm440 0h160v-160H620v160Z\"/>\n",
              "  </svg>\n",
              "    </button>\n",
              "\n",
              "  <style>\n",
              "    .colab-df-container {\n",
              "      display:flex;\n",
              "      gap: 12px;\n",
              "    }\n",
              "\n",
              "    .colab-df-convert {\n",
              "      background-color: #E8F0FE;\n",
              "      border: none;\n",
              "      border-radius: 50%;\n",
              "      cursor: pointer;\n",
              "      display: none;\n",
              "      fill: #1967D2;\n",
              "      height: 32px;\n",
              "      padding: 0 0 0 0;\n",
              "      width: 32px;\n",
              "    }\n",
              "\n",
              "    .colab-df-convert:hover {\n",
              "      background-color: #E2EBFA;\n",
              "      box-shadow: 0px 1px 2px rgba(60, 64, 67, 0.3), 0px 1px 3px 1px rgba(60, 64, 67, 0.15);\n",
              "      fill: #174EA6;\n",
              "    }\n",
              "\n",
              "    .colab-df-buttons div {\n",
              "      margin-bottom: 4px;\n",
              "    }\n",
              "\n",
              "    [theme=dark] .colab-df-convert {\n",
              "      background-color: #3B4455;\n",
              "      fill: #D2E3FC;\n",
              "    }\n",
              "\n",
              "    [theme=dark] .colab-df-convert:hover {\n",
              "      background-color: #434B5C;\n",
              "      box-shadow: 0px 1px 3px 1px rgba(0, 0, 0, 0.15);\n",
              "      filter: drop-shadow(0px 1px 2px rgba(0, 0, 0, 0.3));\n",
              "      fill: #FFFFFF;\n",
              "    }\n",
              "  </style>\n",
              "\n",
              "    <script>\n",
              "      const buttonEl =\n",
              "        document.querySelector('#df-ce6fbddc-1c1a-4f30-b16f-4b34a96142cb button.colab-df-convert');\n",
              "      buttonEl.style.display =\n",
              "        google.colab.kernel.accessAllowed ? 'block' : 'none';\n",
              "\n",
              "      async function convertToInteractive(key) {\n",
              "        const element = document.querySelector('#df-ce6fbddc-1c1a-4f30-b16f-4b34a96142cb');\n",
              "        const dataTable =\n",
              "          await google.colab.kernel.invokeFunction('convertToInteractive',\n",
              "                                                    [key], {});\n",
              "        if (!dataTable) return;\n",
              "\n",
              "        const docLinkHtml = 'Like what you see? Visit the ' +\n",
              "          '<a target=\"_blank\" href=https://colab.research.google.com/notebooks/data_table.ipynb>data table notebook</a>'\n",
              "          + ' to learn more about interactive tables.';\n",
              "        element.innerHTML = '';\n",
              "        dataTable['output_type'] = 'display_data';\n",
              "        await google.colab.output.renderOutput(dataTable, element);\n",
              "        const docLink = document.createElement('div');\n",
              "        docLink.innerHTML = docLinkHtml;\n",
              "        element.appendChild(docLink);\n",
              "      }\n",
              "    </script>\n",
              "  </div>\n",
              "\n",
              "\n",
              "<div id=\"df-e80df3d2-58e2-4e77-94bf-0de6f4f464a8\">\n",
              "  <button class=\"colab-df-quickchart\" onclick=\"quickchart('df-e80df3d2-58e2-4e77-94bf-0de6f4f464a8')\"\n",
              "            title=\"Suggest charts\"\n",
              "            style=\"display:none;\">\n",
              "\n",
              "<svg xmlns=\"http://www.w3.org/2000/svg\" height=\"24px\"viewBox=\"0 0 24 24\"\n",
              "     width=\"24px\">\n",
              "    <g>\n",
              "        <path d=\"M19 3H5c-1.1 0-2 .9-2 2v14c0 1.1.9 2 2 2h14c1.1 0 2-.9 2-2V5c0-1.1-.9-2-2-2zM9 17H7v-7h2v7zm4 0h-2V7h2v10zm4 0h-2v-4h2v4z\"/>\n",
              "    </g>\n",
              "</svg>\n",
              "  </button>\n",
              "\n",
              "<style>\n",
              "  .colab-df-quickchart {\n",
              "      --bg-color: #E8F0FE;\n",
              "      --fill-color: #1967D2;\n",
              "      --hover-bg-color: #E2EBFA;\n",
              "      --hover-fill-color: #174EA6;\n",
              "      --disabled-fill-color: #AAA;\n",
              "      --disabled-bg-color: #DDD;\n",
              "  }\n",
              "\n",
              "  [theme=dark] .colab-df-quickchart {\n",
              "      --bg-color: #3B4455;\n",
              "      --fill-color: #D2E3FC;\n",
              "      --hover-bg-color: #434B5C;\n",
              "      --hover-fill-color: #FFFFFF;\n",
              "      --disabled-bg-color: #3B4455;\n",
              "      --disabled-fill-color: #666;\n",
              "  }\n",
              "\n",
              "  .colab-df-quickchart {\n",
              "    background-color: var(--bg-color);\n",
              "    border: none;\n",
              "    border-radius: 50%;\n",
              "    cursor: pointer;\n",
              "    display: none;\n",
              "    fill: var(--fill-color);\n",
              "    height: 32px;\n",
              "    padding: 0;\n",
              "    width: 32px;\n",
              "  }\n",
              "\n",
              "  .colab-df-quickchart:hover {\n",
              "    background-color: var(--hover-bg-color);\n",
              "    box-shadow: 0 1px 2px rgba(60, 64, 67, 0.3), 0 1px 3px 1px rgba(60, 64, 67, 0.15);\n",
              "    fill: var(--button-hover-fill-color);\n",
              "  }\n",
              "\n",
              "  .colab-df-quickchart-complete:disabled,\n",
              "  .colab-df-quickchart-complete:disabled:hover {\n",
              "    background-color: var(--disabled-bg-color);\n",
              "    fill: var(--disabled-fill-color);\n",
              "    box-shadow: none;\n",
              "  }\n",
              "\n",
              "  .colab-df-spinner {\n",
              "    border: 2px solid var(--fill-color);\n",
              "    border-color: transparent;\n",
              "    border-bottom-color: var(--fill-color);\n",
              "    animation:\n",
              "      spin 1s steps(1) infinite;\n",
              "  }\n",
              "\n",
              "  @keyframes spin {\n",
              "    0% {\n",
              "      border-color: transparent;\n",
              "      border-bottom-color: var(--fill-color);\n",
              "      border-left-color: var(--fill-color);\n",
              "    }\n",
              "    20% {\n",
              "      border-color: transparent;\n",
              "      border-left-color: var(--fill-color);\n",
              "      border-top-color: var(--fill-color);\n",
              "    }\n",
              "    30% {\n",
              "      border-color: transparent;\n",
              "      border-left-color: var(--fill-color);\n",
              "      border-top-color: var(--fill-color);\n",
              "      border-right-color: var(--fill-color);\n",
              "    }\n",
              "    40% {\n",
              "      border-color: transparent;\n",
              "      border-right-color: var(--fill-color);\n",
              "      border-top-color: var(--fill-color);\n",
              "    }\n",
              "    60% {\n",
              "      border-color: transparent;\n",
              "      border-right-color: var(--fill-color);\n",
              "    }\n",
              "    80% {\n",
              "      border-color: transparent;\n",
              "      border-right-color: var(--fill-color);\n",
              "      border-bottom-color: var(--fill-color);\n",
              "    }\n",
              "    90% {\n",
              "      border-color: transparent;\n",
              "      border-bottom-color: var(--fill-color);\n",
              "    }\n",
              "  }\n",
              "</style>\n",
              "\n",
              "  <script>\n",
              "    async function quickchart(key) {\n",
              "      const quickchartButtonEl =\n",
              "        document.querySelector('#' + key + ' button');\n",
              "      quickchartButtonEl.disabled = true;  // To prevent multiple clicks.\n",
              "      quickchartButtonEl.classList.add('colab-df-spinner');\n",
              "      try {\n",
              "        const charts = await google.colab.kernel.invokeFunction(\n",
              "            'suggestCharts', [key], {});\n",
              "      } catch (error) {\n",
              "        console.error('Error during call to suggestCharts:', error);\n",
              "      }\n",
              "      quickchartButtonEl.classList.remove('colab-df-spinner');\n",
              "      quickchartButtonEl.classList.add('colab-df-quickchart-complete');\n",
              "    }\n",
              "    (() => {\n",
              "      let quickchartButtonEl =\n",
              "        document.querySelector('#df-e80df3d2-58e2-4e77-94bf-0de6f4f464a8 button');\n",
              "      quickchartButtonEl.style.display =\n",
              "        google.colab.kernel.accessAllowed ? 'block' : 'none';\n",
              "    })();\n",
              "  </script>\n",
              "</div>\n",
              "\n",
              "    </div>\n",
              "  </div>\n"
            ],
            "application/vnd.google.colaboratory.intrinsic+json": {
              "type": "dataframe",
              "summary": "{\n  \"name\": \"df\",\n  \"rows\": 8,\n  \"fields\": [\n    {\n      \"column\": \"no_of_adults\",\n      \"properties\": {\n        \"dtype\": \"number\",\n        \"std\": 12824.52483856726,\n        \"min\": 0.0,\n        \"max\": 36275.0,\n        \"num_unique_values\": 6,\n        \"samples\": [\n          36275.0,\n          1.8449620951068229,\n          4.0\n        ],\n        \"semantic_type\": \"\",\n        \"description\": \"\"\n      }\n    },\n    {\n      \"column\": \"no_of_children\",\n      \"properties\": {\n        \"dtype\": \"number\",\n        \"std\": 12824.618983376778,\n        \"min\": 0.0,\n        \"max\": 36275.0,\n        \"num_unique_values\": 5,\n        \"samples\": [\n          0.10527911784975878,\n          10.0,\n          0.4026480635891775\n        ],\n        \"semantic_type\": \"\",\n        \"description\": \"\"\n      }\n    },\n    {\n      \"column\": \"no_of_weekend_nights\",\n      \"properties\": {\n        \"dtype\": \"number\",\n        \"std\": 12824.559445700932,\n        \"min\": 0.0,\n        \"max\": 36275.0,\n        \"num_unique_values\": 7,\n        \"samples\": [\n          36275.0,\n          0.810723638869745,\n          2.0\n        ],\n        \"semantic_type\": \"\",\n        \"description\": \"\"\n      }\n    },\n    {\n      \"column\": \"no_of_week_nights\",\n      \"properties\": {\n        \"dtype\": \"number\",\n        \"std\": 12823.806135103609,\n        \"min\": 0.0,\n        \"max\": 36275.0,\n        \"num_unique_values\": 8,\n        \"samples\": [\n          2.2043004824259134,\n          2.0,\n          36275.0\n        ],\n        \"semantic_type\": \"\",\n        \"description\": \"\"\n      }\n    },\n    {\n      \"column\": \"required_car_parking_space\",\n      \"properties\": {\n        \"dtype\": \"number\",\n        \"std\": 12825.088423722018,\n        \"min\": 0.0,\n        \"max\": 36275.0,\n        \"num_unique_values\": 5,\n        \"samples\": [\n          0.0309855272226051,\n          1.0,\n          0.17328084736888597\n        ],\n        \"semantic_type\": \"\",\n        \"description\": \"\"\n      }\n    },\n    {\n      \"column\": \"lead_time\",\n      \"properties\": {\n        \"dtype\": \"number\",\n        \"std\": 12784.785498648725,\n        \"min\": 0.0,\n        \"max\": 36275.0,\n        \"num_unique_values\": 8,\n        \"samples\": [\n          85.23255685733976,\n          57.0,\n          36275.0\n        ],\n        \"semantic_type\": \"\",\n        \"description\": \"\"\n      }\n    },\n    {\n      \"column\": \"arrival_year\",\n      \"properties\": {\n        \"dtype\": \"number\",\n        \"std\": 12234.02806138302,\n        \"min\": 0.3838364395590917,\n        \"max\": 36275.0,\n        \"num_unique_values\": 5,\n        \"samples\": [\n          2017.8204272915232,\n          2018.0,\n          0.3838364395590917\n        ],\n        \"semantic_type\": \"\",\n        \"description\": \"\"\n      }\n    },\n    {\n      \"column\": \"arrival_month\",\n      \"properties\": {\n        \"dtype\": \"number\",\n        \"std\": 12822.801464849852,\n        \"min\": 1.0,\n        \"max\": 36275.0,\n        \"num_unique_values\": 8,\n        \"samples\": [\n          7.423652653342522,\n          8.0,\n          36275.0\n        ],\n        \"semantic_type\": \"\",\n        \"description\": \"\"\n      }\n    },\n    {\n      \"column\": \"arrival_date\",\n      \"properties\": {\n        \"dtype\": \"number\",\n        \"std\": 12819.933286411135,\n        \"min\": 1.0,\n        \"max\": 36275.0,\n        \"num_unique_values\": 8,\n        \"samples\": [\n          15.596995175740869,\n          16.0,\n          36275.0\n        ],\n        \"semantic_type\": \"\",\n        \"description\": \"\"\n      }\n    },\n    {\n      \"column\": \"repeated_guest\",\n      \"properties\": {\n        \"dtype\": \"number\",\n        \"std\": 12825.08946294667,\n        \"min\": 0.0,\n        \"max\": 36275.0,\n        \"num_unique_values\": 5,\n        \"samples\": [\n          0.02563749138525155,\n          1.0,\n          0.15805346903515535\n        ],\n        \"semantic_type\": \"\",\n        \"description\": \"\"\n      }\n    },\n    {\n      \"column\": \"no_of_previous_cancellations\",\n      \"properties\": {\n        \"dtype\": \"number\",\n        \"std\": 12824.473661091766,\n        \"min\": 0.0,\n        \"max\": 36275.0,\n        \"num_unique_values\": 5,\n        \"samples\": [\n          0.023349414197105445,\n          13.0,\n          0.3683314479198375\n        ],\n        \"semantic_type\": \"\",\n        \"description\": \"\"\n      }\n    },\n    {\n      \"column\": \"no_of_previous_bookings_not_canceled\",\n      \"properties\": {\n        \"dtype\": \"number\",\n        \"std\": 12822.139355010762,\n        \"min\": 0.0,\n        \"max\": 36275.0,\n        \"num_unique_values\": 5,\n        \"samples\": [\n          0.15341144038594073,\n          58.0,\n          1.754170711442222\n        ],\n        \"semantic_type\": \"\",\n        \"description\": \"\"\n      }\n    },\n    {\n      \"column\": \"avg_price_per_room\",\n      \"properties\": {\n        \"dtype\": \"number\",\n        \"std\": 12776.843959253338,\n        \"min\": 0.0,\n        \"max\": 36275.0,\n        \"num_unique_values\": 8,\n        \"samples\": [\n          103.42353907649897,\n          99.45,\n          36275.0\n        ],\n        \"semantic_type\": \"\",\n        \"description\": \"\"\n      }\n    },\n    {\n      \"column\": \"no_of_special_requests\",\n      \"properties\": {\n        \"dtype\": \"number\",\n        \"std\": 12824.775296524598,\n        \"min\": 0.0,\n        \"max\": 36275.0,\n        \"num_unique_values\": 6,\n        \"samples\": [\n          36275.0,\n          0.6196554100620262,\n          5.0\n        ],\n        \"semantic_type\": \"\",\n        \"description\": \"\"\n      }\n    }\n  ]\n}"
            }
          },
          "metadata": {},
          "execution_count": 2
        }
      ]
    },
    {
      "cell_type": "code",
      "source": [
        "df.isnull().sum()"
      ],
      "metadata": {
        "colab": {
          "base_uri": "https://localhost:8080/",
          "height": 680
        },
        "id": "OPoyebTJZ3nm",
        "outputId": "d3a28c50-1450-491f-b5ee-95b02809a89d"
      },
      "execution_count": 3,
      "outputs": [
        {
          "output_type": "execute_result",
          "data": {
            "text/plain": [
              "Booking_ID                              0\n",
              "no_of_adults                            0\n",
              "no_of_children                          0\n",
              "no_of_weekend_nights                    0\n",
              "no_of_week_nights                       0\n",
              "type_of_meal_plan                       0\n",
              "required_car_parking_space              0\n",
              "room_type_reserved                      0\n",
              "lead_time                               0\n",
              "arrival_year                            0\n",
              "arrival_month                           0\n",
              "arrival_date                            0\n",
              "market_segment_type                     0\n",
              "repeated_guest                          0\n",
              "no_of_previous_cancellations            0\n",
              "no_of_previous_bookings_not_canceled    0\n",
              "avg_price_per_room                      0\n",
              "no_of_special_requests                  0\n",
              "booking_status                          0\n",
              "dtype: int64"
            ],
            "text/html": [
              "<div>\n",
              "<style scoped>\n",
              "    .dataframe tbody tr th:only-of-type {\n",
              "        vertical-align: middle;\n",
              "    }\n",
              "\n",
              "    .dataframe tbody tr th {\n",
              "        vertical-align: top;\n",
              "    }\n",
              "\n",
              "    .dataframe thead th {\n",
              "        text-align: right;\n",
              "    }\n",
              "</style>\n",
              "<table border=\"1\" class=\"dataframe\">\n",
              "  <thead>\n",
              "    <tr style=\"text-align: right;\">\n",
              "      <th></th>\n",
              "      <th>0</th>\n",
              "    </tr>\n",
              "  </thead>\n",
              "  <tbody>\n",
              "    <tr>\n",
              "      <th>Booking_ID</th>\n",
              "      <td>0</td>\n",
              "    </tr>\n",
              "    <tr>\n",
              "      <th>no_of_adults</th>\n",
              "      <td>0</td>\n",
              "    </tr>\n",
              "    <tr>\n",
              "      <th>no_of_children</th>\n",
              "      <td>0</td>\n",
              "    </tr>\n",
              "    <tr>\n",
              "      <th>no_of_weekend_nights</th>\n",
              "      <td>0</td>\n",
              "    </tr>\n",
              "    <tr>\n",
              "      <th>no_of_week_nights</th>\n",
              "      <td>0</td>\n",
              "    </tr>\n",
              "    <tr>\n",
              "      <th>type_of_meal_plan</th>\n",
              "      <td>0</td>\n",
              "    </tr>\n",
              "    <tr>\n",
              "      <th>required_car_parking_space</th>\n",
              "      <td>0</td>\n",
              "    </tr>\n",
              "    <tr>\n",
              "      <th>room_type_reserved</th>\n",
              "      <td>0</td>\n",
              "    </tr>\n",
              "    <tr>\n",
              "      <th>lead_time</th>\n",
              "      <td>0</td>\n",
              "    </tr>\n",
              "    <tr>\n",
              "      <th>arrival_year</th>\n",
              "      <td>0</td>\n",
              "    </tr>\n",
              "    <tr>\n",
              "      <th>arrival_month</th>\n",
              "      <td>0</td>\n",
              "    </tr>\n",
              "    <tr>\n",
              "      <th>arrival_date</th>\n",
              "      <td>0</td>\n",
              "    </tr>\n",
              "    <tr>\n",
              "      <th>market_segment_type</th>\n",
              "      <td>0</td>\n",
              "    </tr>\n",
              "    <tr>\n",
              "      <th>repeated_guest</th>\n",
              "      <td>0</td>\n",
              "    </tr>\n",
              "    <tr>\n",
              "      <th>no_of_previous_cancellations</th>\n",
              "      <td>0</td>\n",
              "    </tr>\n",
              "    <tr>\n",
              "      <th>no_of_previous_bookings_not_canceled</th>\n",
              "      <td>0</td>\n",
              "    </tr>\n",
              "    <tr>\n",
              "      <th>avg_price_per_room</th>\n",
              "      <td>0</td>\n",
              "    </tr>\n",
              "    <tr>\n",
              "      <th>no_of_special_requests</th>\n",
              "      <td>0</td>\n",
              "    </tr>\n",
              "    <tr>\n",
              "      <th>booking_status</th>\n",
              "      <td>0</td>\n",
              "    </tr>\n",
              "  </tbody>\n",
              "</table>\n",
              "</div><br><label><b>dtype:</b> int64</label>"
            ]
          },
          "metadata": {},
          "execution_count": 3
        }
      ]
    },
    {
      "cell_type": "code",
      "source": [
        "# 1) Faça a remoção da coluna 'Booking_ID':\n",
        "\n",
        "df.drop('Booking_ID', axis=1, inplace = True)"
      ],
      "metadata": {
        "id": "R_fp-xcFlyYu"
      },
      "execution_count": 4,
      "outputs": []
    },
    {
      "cell_type": "code",
      "source": [
        "# 2) Obtenha o nome das colunas int64 e float64 e faça a normalização com StandardScaler:\n",
        "\n",
        "scale_columns = df.select_dtypes(include=['int64', 'float64']).columns.tolist()\n",
        "print(scale_columns)"
      ],
      "metadata": {
        "colab": {
          "base_uri": "https://localhost:8080/"
        },
        "id": "NRVmBOYObCO3",
        "outputId": "0737407b-e71c-4284-8f83-c6bea3e4d5ab"
      },
      "execution_count": 5,
      "outputs": [
        {
          "output_type": "stream",
          "name": "stdout",
          "text": [
            "['no_of_adults', 'no_of_children', 'no_of_weekend_nights', 'no_of_week_nights', 'required_car_parking_space', 'lead_time', 'arrival_year', 'arrival_month', 'arrival_date', 'repeated_guest', 'no_of_previous_cancellations', 'no_of_previous_bookings_not_canceled', 'avg_price_per_room', 'no_of_special_requests']\n"
          ]
        }
      ]
    },
    {
      "cell_type": "code",
      "source": [
        "# 3) Aplique a transformação das colunas categóricas com get_dummies()\n",
        "\n",
        "df = pd.get_dummies(df, columns=['market_segment_type', 'room_type_reserved', 'type_of_meal_plan'])\n",
        "df.info()"
      ],
      "metadata": {
        "colab": {
          "base_uri": "https://localhost:8080/"
        },
        "id": "3wXw1LvWac5t",
        "outputId": "54fcf9cf-01f6-481a-a695-2b665baf303b"
      },
      "execution_count": 6,
      "outputs": [
        {
          "output_type": "stream",
          "name": "stdout",
          "text": [
            "<class 'pandas.core.frame.DataFrame'>\n",
            "RangeIndex: 36275 entries, 0 to 36274\n",
            "Data columns (total 31 columns):\n",
            " #   Column                                Non-Null Count  Dtype  \n",
            "---  ------                                --------------  -----  \n",
            " 0   no_of_adults                          36275 non-null  int64  \n",
            " 1   no_of_children                        36275 non-null  int64  \n",
            " 2   no_of_weekend_nights                  36275 non-null  int64  \n",
            " 3   no_of_week_nights                     36275 non-null  int64  \n",
            " 4   required_car_parking_space            36275 non-null  int64  \n",
            " 5   lead_time                             36275 non-null  int64  \n",
            " 6   arrival_year                          36275 non-null  int64  \n",
            " 7   arrival_month                         36275 non-null  int64  \n",
            " 8   arrival_date                          36275 non-null  int64  \n",
            " 9   repeated_guest                        36275 non-null  int64  \n",
            " 10  no_of_previous_cancellations          36275 non-null  int64  \n",
            " 11  no_of_previous_bookings_not_canceled  36275 non-null  int64  \n",
            " 12  avg_price_per_room                    36275 non-null  float64\n",
            " 13  no_of_special_requests                36275 non-null  int64  \n",
            " 14  booking_status                        36275 non-null  object \n",
            " 15  market_segment_type_Aviation          36275 non-null  bool   \n",
            " 16  market_segment_type_Complementary     36275 non-null  bool   \n",
            " 17  market_segment_type_Corporate         36275 non-null  bool   \n",
            " 18  market_segment_type_Offline           36275 non-null  bool   \n",
            " 19  market_segment_type_Online            36275 non-null  bool   \n",
            " 20  room_type_reserved_Room_Type 1        36275 non-null  bool   \n",
            " 21  room_type_reserved_Room_Type 2        36275 non-null  bool   \n",
            " 22  room_type_reserved_Room_Type 3        36275 non-null  bool   \n",
            " 23  room_type_reserved_Room_Type 4        36275 non-null  bool   \n",
            " 24  room_type_reserved_Room_Type 5        36275 non-null  bool   \n",
            " 25  room_type_reserved_Room_Type 6        36275 non-null  bool   \n",
            " 26  room_type_reserved_Room_Type 7        36275 non-null  bool   \n",
            " 27  type_of_meal_plan_Meal Plan 1         36275 non-null  bool   \n",
            " 28  type_of_meal_plan_Meal Plan 2         36275 non-null  bool   \n",
            " 29  type_of_meal_plan_Meal Plan 3         36275 non-null  bool   \n",
            " 30  type_of_meal_plan_Not Selected        36275 non-null  bool   \n",
            "dtypes: bool(16), float64(1), int64(13), object(1)\n",
            "memory usage: 4.7+ MB\n"
          ]
        }
      ]
    },
    {
      "cell_type": "code",
      "source": [
        "# 4) Preparação para amostragem. Efetuar a separação entre os atributos previsores (X) e a classe (y)\n",
        "\n",
        "X = df.drop('booking_status', axis=1)\n",
        "y = df['booking_status']\n",
        "X.shape, y.shape"
      ],
      "metadata": {
        "colab": {
          "base_uri": "https://localhost:8080/"
        },
        "id": "YM3AQgjDbsEA",
        "outputId": "58fc3344-4e07-450f-e104-1ba614c0ec94"
      },
      "execution_count": 7,
      "outputs": [
        {
          "output_type": "execute_result",
          "data": {
            "text/plain": [
              "((36275, 30), (36275,))"
            ]
          },
          "metadata": {},
          "execution_count": 7
        }
      ]
    },
    {
      "cell_type": "code",
      "source": [
        "print(y.unique())\n",
        "print(y.name)"
      ],
      "metadata": {
        "colab": {
          "base_uri": "https://localhost:8080/"
        },
        "id": "pAcvoODCjs2r",
        "outputId": "ce84f5a1-9007-40b4-d2ec-472c440f6b52"
      },
      "execution_count": 8,
      "outputs": [
        {
          "output_type": "stream",
          "name": "stdout",
          "text": [
            "['Not_Canceled' 'Canceled']\n",
            "booking_status\n"
          ]
        }
      ]
    },
    {
      "cell_type": "code",
      "source": [
        "# Codificar valores categóricos de y ['Not_Canceled' 'Canceled']\n",
        "\n",
        "le = LabelEncoder()\n",
        "y = le.fit_transform(y)\n",
        "print(y)"
      ],
      "metadata": {
        "colab": {
          "base_uri": "https://localhost:8080/"
        },
        "id": "9Khca0M_j04F",
        "outputId": "62a54275-9ead-4338-fa8d-4378bd495c47"
      },
      "execution_count": 9,
      "outputs": [
        {
          "output_type": "stream",
          "name": "stdout",
          "text": [
            "[1 1 0 ... 1 0 1]\n"
          ]
        }
      ]
    },
    {
      "cell_type": "code",
      "source": [
        "# 5) Aplicar a amostragem Holdout com 80% treino e 20% teste\n",
        "\n",
        "X_train, X_test, y_train, y_test = train_test_split(X, y, test_size=0.2, random_state=42)\n",
        "print(X_train.shape, y_train.shape)\n",
        "print(X_test.shape, y_test.shape)"
      ],
      "metadata": {
        "colab": {
          "base_uri": "https://localhost:8080/"
        },
        "id": "Rt87FdiydGPz",
        "outputId": "41624b55-f1c6-4399-bf06-f3aba4d7078a"
      },
      "execution_count": 10,
      "outputs": [
        {
          "output_type": "stream",
          "name": "stdout",
          "text": [
            "(29020, 30) (29020,)\n",
            "(7255, 30) (7255,)\n"
          ]
        }
      ]
    },
    {
      "cell_type": "code",
      "source": [
        "# 6) Aplicar o balanceamento com a abordagem SMOTE\n",
        "\n",
        "sm = SMOTE()\n",
        "X_train_resampled, y_train_resampled = sm.fit_resample(X_train, y_train)\n",
        "X_train_resampled.shape, y_train_resampled.shape"
      ],
      "metadata": {
        "colab": {
          "base_uri": "https://localhost:8080/"
        },
        "id": "Qrqr5HRyd2Zj",
        "outputId": "be01907f-1fbe-4018-f9cf-a047f37fde90"
      },
      "execution_count": 11,
      "outputs": [
        {
          "output_type": "execute_result",
          "data": {
            "text/plain": [
              "((39102, 30), (39102,))"
            ]
          },
          "metadata": {},
          "execution_count": 11
        }
      ]
    },
    {
      "cell_type": "code",
      "source": [
        "# 7) Faça a amostragem por validação cruzada utilizando a abordagem KFold\n",
        "# com 5 partições e uso da métrica acurácia\n",
        "\n",
        "DT = DecisionTreeClassifier()\n",
        "kf = KFold(n_splits=5, shuffle=True, random_state=42)\n",
        "scores = cross_validate(DT, X_train_resampled, y_train_resampled, cv=kf, scoring=['accuracy'])\n",
        "scores"
      ],
      "metadata": {
        "colab": {
          "base_uri": "https://localhost:8080/"
        },
        "id": "k3F1FTzSexhX",
        "outputId": "1168f5db-60aa-4908-ebd9-a7aa02a5a19e"
      },
      "execution_count": 12,
      "outputs": [
        {
          "output_type": "execute_result",
          "data": {
            "text/plain": [
              "{'fit_time': array([0.51529813, 0.61832643, 0.44436741, 0.45888686, 0.551018  ]),\n",
              " 'score_time': array([0.0102706 , 0.02222705, 0.00958347, 0.02218008, 0.05445814]),\n",
              " 'test_accuracy': array([0.89144611, 0.89144611, 0.892711  , 0.88580563, 0.88734015])}"
            ]
          },
          "metadata": {},
          "execution_count": 12
        }
      ]
    }
  ]
}